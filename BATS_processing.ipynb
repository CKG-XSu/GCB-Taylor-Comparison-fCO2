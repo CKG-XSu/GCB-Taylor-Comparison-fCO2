{
 "cells": [
  {
   "cell_type": "markdown",
   "metadata": {},
   "source": [
    "install if your environment does not have it"
   ]
  },
  {
   "cell_type": "code",
   "execution_count": null,
   "metadata": {},
   "outputs": [],
   "source": [
    "# pip install PyCO2SYS"
   ]
  },
  {
   "cell_type": "code",
   "execution_count": null,
   "metadata": {},
   "outputs": [],
   "source": [
    "import pandas as pd\n",
    "import xarray as xr\n",
    "import numpy as np\n",
    "import numpy.ma as ma\n",
    "%matplotlib inline\n",
    "%config InlineBackend.figure_format = 'jpg'\n",
    "%config InlineBackend.print_figure_kwargs = {'dpi':300, 'bbox_inches': 'tight'}\n",
    "import matplotlib as mpl\n",
    "from matplotlib.ticker import AutoMinorLocator\n",
    "import matplotlib.pyplot as plt\n",
    "import scipy\n",
    "import sklearn.linear_model \n",
    "import pickle\n",
    "import re\n",
    "import PyCO2SYS as pyco2\n",
    "import requests\n",
    "from datetime import datetime\n",
    "import tempfile"
   ]
  },
  {
   "cell_type": "code",
   "execution_count": null,
   "metadata": {},
   "outputs": [],
   "source": [
    "import gcsfs \n",
    "fs = gcsfs.GCSFileSystem()"
   ]
  },
  {
   "cell_type": "code",
   "execution_count": null,
   "metadata": {
    "scrolled": true
   },
   "outputs": [],
   "source": [
    "fs.ls('YOUR_GCS_PATH/Taylor_data/databases/raw')"
   ]
  },
  {
   "cell_type": "code",
   "execution_count": null,
   "metadata": {},
   "outputs": [],
   "source": [
    "# In this part, we need to set the download path and save path.\n",
    "# And the script would download the data and save it directly to GCS.\n",
    "# If failed, the output would notify\n",
    "\n",
    "# Set the path of BATS data.\n",
    "# Available here: https://bats.bios.asu.edu/bats-data/ \n",
    "# Select \"bats_bottle.txt\" and click \"copy link\" on the top right to get the url\n",
    "# Current version information will be shown in the next cell's output\n",
    "# After copy the link, it may end with \"dl=0\". If so, please change to \"dl=1\" so that this script could successfully download directly\n",
    "bats_url = 'https://www.dropbox.com/scl/fi/1jygi9z845irab8fo22kj/bats_bottle.txt?rlkey=etw7w4c30umb0gkekgi20ec76&e=1&st=bzpbp9a2&dl=1'\n",
    "\n",
    "# GCS path to save the data\n",
    "save_path = 'YOUR_GCS_PATH/Taylor_data/databases'\n",
    "# Edit the file name if needed.\n",
    "gcs_path = f'{save_path}/raw/bats_bottle.txt'\n",
    "\n",
    "# If you want to change the outcome .nc save path or file name, search for \"zarr_gcs_path\" later in this notebook\n",
    "\n",
    "fs = gcsfs.GCSFileSystem()\n",
    "\n",
    "if fs.exists(gcs_path):\n",
    "    print(f\"File already exists at {gcs_path}. Skipping download.\")\n",
    "else:\n",
    "    # download and save to GCS\n",
    "    response = requests.get(bats_url, stream=True)\n",
    "    if response.status_code == 200:\n",
    "        with fs.open(gcs_path, 'wb') as gcs_file:\n",
    "            for chunk in response.iter_content(chunk_size=1024):\n",
    "                if chunk:  # filter out keep-alive new chunks\n",
    "                    gcs_file.write(chunk)\n",
    "        print(f\"Succesfully downloaded and saved to {gcs_path}\")\n",
    "    else:\n",
    "        print(f\"Error! Could not download: {response.status_code}\")"
   ]
  },
  {
   "cell_type": "code",
   "execution_count": null,
   "metadata": {},
   "outputs": [],
   "source": [
    "# Load data from GCS and convert to dataframe\n",
    "with fs.open(gcs_path, 'rb') as gcs_file:\n",
    "    lines = gcs_file.readlines()\n",
    "\n",
    "# Mannully set where data starts from, skipping the comment lines. Here we use: 58\n",
    "# Shound not change if BATS keeps their format\n",
    "lines = [line.decode('utf-8') for line in lines]\n",
    "data = lines[58:]\n",
    "\n",
    "# Get column names\n",
    "columns = data[0].replace(',', '').strip().split()\n",
    "\n",
    "df = pd.DataFrame([line.strip().split() for line in data[1:]], columns=columns)\n",
    "\n",
    "# Detect the latest cruise date\n",
    "# As long as BATS keeps the same format, this code would work.\n",
    "# Current format: The 3rd line:BATS discrete Bottle Data (excluding HPLC pigments) for  October 1988 (cruise#10001) to June 2023 (cruise# 10405)\n",
    "info_line = lines[2].strip()\n",
    "match = re.search(r'for\\s+([A-Za-z]+\\s+\\d{4})\\s+\\(.*?\\)\\s+to\\s+([A-Za-z]+\\s+\\d{4})\\s+\\(.*?\\)', info_line)\n",
    "if match:\n",
    "    start_date = match.group(1)\n",
    "    end_date = match.group(2)\n",
    "    print(f\"The current version is : from {start_date} to  {end_date}\")\n",
    "else:\n",
    "    raise ValueError(\"Take care. Fail to detect the latest cruise date!\")"
   ]
  },
  {
   "cell_type": "code",
   "execution_count": null,
   "metadata": {},
   "outputs": [],
   "source": [
    "df.columns"
   ]
  },
  {
   "cell_type": "code",
   "execution_count": null,
   "metadata": {},
   "outputs": [],
   "source": [
    "# Drop unnecessary columns\n",
    "df=df.drop(columns=['time','Pro','Syn','Naneu','Piceu','TN','Bact','latN','lonW','QF','BSi','LSi','O2(1)','TOC','PON','OxFix','POC','Sig-th','Anom1','POP','TDP','NO21','NO31'])\n",
    "\n",
    "df.head(3)"
   ]
  },
  {
   "cell_type": "code",
   "execution_count": null,
   "metadata": {},
   "outputs": [],
   "source": [
    "# Convert data types\n",
    "df['Depth'] = pd.to_numeric(df['Depth'], errors='coerce')\n",
    "df['Temp'] = pd.to_numeric(df['Temp'], errors='coerce')\n",
    "df['CTD_S'] = pd.to_numeric(df['CTD_S'], errors='coerce')\n",
    "df['Sal1'] = pd.to_numeric(df['Sal1'], errors='coerce')\n",
    "df['CO2'] = pd.to_numeric(df['CO2'], errors='coerce')\n",
    "df['Alk'] = pd.to_numeric(df['Alk'], errors='coerce')\n",
    "df['PO41'] = pd.to_numeric(df['PO41'], errors='coerce')\n",
    "df['Si1'] = pd.to_numeric(df['Si1'], errors='coerce')\n",
    "df['SRP'] = pd.to_numeric(df['SRP'], errors='coerce')\n",
    "\n",
    "df.head()"
   ]
  },
  {
   "cell_type": "code",
   "execution_count": null,
   "metadata": {},
   "outputs": [],
   "source": [
    "# Grab observations above 10 meters\n",
    "ds = df[(df.Depth < 10) & (df.Alk > 0) & (df.Sal1 > 0) & (df.Temp != -999) & (df.CO2 > 0) & (df.Si1 != -999) & (df.PO41 != -999)]\n",
    "ds.head()"
   ]
  },
  {
   "cell_type": "code",
   "execution_count": null,
   "metadata": {},
   "outputs": [],
   "source": [
    "has_invalid_values = (ds == -999).any().any()\n",
    "has_invalid_values"
   ]
  },
  {
   "cell_type": "code",
   "execution_count": null,
   "metadata": {},
   "outputs": [],
   "source": [
    "ds.replace(-999, np.nan, inplace=True)\n",
    "has_invalid_values = (ds == -999).any().any()\n",
    "has_invalid_values"
   ]
  },
  {
   "cell_type": "code",
   "execution_count": null,
   "metadata": {},
   "outputs": [],
   "source": [
    "# Define input conditions\n",
    "# These are the inputs to calculate pCO2 using PyCO2SYS package\n",
    "par1type =    1  # The first parameter supplied is of type \"1\", which is \"alkalinity\"\n",
    "par1     = ds.Alk  # Value of the first parameter\n",
    "par2type =    2  # The second parameter supplied is of type \"2\", which is \"DIC\"\n",
    "par2     = ds.CO2  # Value of the second parameter\n",
    "sal      = ds.Sal1  # Salinity of the sample\n",
    "tempin   = ds.Temp  # Temperature at input conditions\n",
    "presin   = 0  # Pressure    at input conditions\n",
    "sil      = ds.Si1 #50  # Concentration of silicate  in the sample (in umol/kg)\n",
    "po4      = ds.PO41  # 2# Concentration of phosphate in the sample (in umol/kg)\n",
    "pHscale  =    1  # pH scale at which the input pH is reported (\"1\" means \"Total Scale\")  \n",
    "                 #  - doesn't matter in this example\n",
    "k1k2c    =    10 #4  # Choice of H2CO3 and HCO3- dissociation constants K1 and K2 (\"4\" means \"Mehrbach refit\")  (Galen says use \"10\")\n",
    "kso4c    =    1  # Choice of HSO4- dissociation constants KSO4 (\"1\" means \"Dickson\")"
   ]
  },
  {
   "cell_type": "code",
   "execution_count": null,
   "metadata": {},
   "outputs": [],
   "source": [
    "# Run CO2SYS!\n",
    "CO2dict = pyco2.sys(par1, par2, par1type, par2type,\n",
    "                    salinity=sal, temperature=tempin, pressure=presin,\n",
    "                    total_silicate=sil, total_phosphate=po4,\n",
    "                    opt_pH_scale=pHscale, opt_k_carbonic=k1k2c, opt_k_bisulfate=kso4c)\n",
    "print('PyCO2SYS ran successfully!')"
   ]
  },
  {
   "cell_type": "code",
   "execution_count": null,
   "metadata": {},
   "outputs": [],
   "source": [
    "fig = plt.subplots(1,1,figsize=(12,2))\n",
    "plt.scatter(ds.decy,CO2dict['pCO2'])\n",
    "plt.xlim(min(ds.decy),max(ds.decy))"
   ]
  },
  {
   "cell_type": "code",
   "execution_count": null,
   "metadata": {},
   "outputs": [],
   "source": [
    "ds.columns"
   ]
  },
  {
   "cell_type": "code",
   "execution_count": null,
   "metadata": {},
   "outputs": [],
   "source": [
    "ds['date']=ds['yyyymmdd'].apply(lambda x: datetime.strptime(str(x), '%Y%m%d'))"
   ]
  },
  {
   "cell_type": "code",
   "execution_count": null,
   "metadata": {},
   "outputs": [],
   "source": [
    "ds.head()"
   ]
  },
  {
   "cell_type": "code",
   "execution_count": null,
   "metadata": {},
   "outputs": [],
   "source": [
    "# Convert date format, only for rename file use. Not used in data processing job.\n",
    "date_mapping = {\n",
    "    'January': '01', 'February': '02', 'March': '03',\n",
    "    'April': '04', 'May': '05', 'June': '06',\n",
    "    'July': '07', 'August': '08', 'September': '09',\n",
    "    'October': '10', 'November': '11', 'December': '12'\n",
    "}\n",
    "\n",
    "def format_date(date_str):\n",
    "    month_str, year_str = date_str.split()\n",
    "    month_num = date_mapping[month_str]\n",
    "    return f\"{year_str}-{month_num}\"\n",
    "\n",
    "formatted_start_date = format_date(start_date)\n",
    "formatted_end_date = format_date(end_date)\n",
    "\n",
    "print(f\"Time period is: {formatted_start_date} and {formatted_end_date}\")"
   ]
  },
  {
   "cell_type": "code",
   "execution_count": null,
   "metadata": {
    "scrolled": true
   },
   "outputs": [],
   "source": [
    "bats_out = xr.Dataset({\n",
    "                        'temp':([\"time\"],ds['Temp']),\n",
    "                        'salinity':(['time'],ds['Sal1']),\n",
    "                        'CO2':(['time'],ds['CO2']),\n",
    "                        'alk':(['time'],ds['Alk']),\n",
    "                        'Si':(['time'],ds['Si1']),\n",
    "                        'PO4':(['time'],ds['PO41']),\n",
    "                        'spco2':(['time'],CO2dict['pCO2'])},\n",
    "                        coords={'time': (['time'],ds['date'])})"
   ]
  },
  {
   "cell_type": "code",
   "execution_count": null,
   "metadata": {},
   "outputs": [],
   "source": [
    "f'{save_path}/bats_spco2_{formatted_start_date}-{formatted_end_date}.nc'"
   ]
  },
  {
   "cell_type": "code",
   "execution_count": null,
   "metadata": {},
   "outputs": [],
   "source": [
    "# Save to GCS as zarr\n",
    "zarr_gcs_path = f'{save_path}/processed/bats_spco2_{formatted_start_date}-{formatted_end_date}.zarr'\n",
    "\n",
    "'''with tempfile.NamedTemporaryFile(suffix='.nc') as tmp_file:\n",
    "    bats_out.to_netcdf(tmp_file.name)\n",
    "    with fs.open(zarr_gcs_path, 'wb') as gcs_file:\n",
    "        gcs_file.write(tmp_file.read())'''\n",
    "\n",
    "bats_out.to_zarr( zarr_gcs_path, mode='w')\n",
    "\n",
    "# Check if saved sucessfully\n",
    "if fs.exists(zarr_gcs_path):\n",
    "    print(f\"Successfully saved to {zarr_gcs_path}\")\n",
    "else:\n",
    "    print(f\"Failed to save to {zarr_gcs_path}\")"
   ]
  },
  {
   "cell_type": "code",
   "execution_count": null,
   "metadata": {},
   "outputs": [],
   "source": [
    "fs.ls(save_path+ '/processed')\n"
   ]
  },
  {
   "cell_type": "code",
   "execution_count": null,
   "metadata": {},
   "outputs": [],
   "source": [
    "# If you want to delete file from the GCS path, run the following code\n",
    "'''\n",
    "delete_path = 'YOUR_GCS_PATH/Taylor_data/GLODAPv2.2023_Merged_Master_File.csv'\n",
    "\n",
    "fs = gcsfs.GCSFileSystem()\n",
    "\n",
    "if fs.exists(delete_path):\n",
    "    fs.rm(delete_path, recursive=True)\n",
    "    print(f\"The file {delete_path} has been deleted\")\n",
    "else:\n",
    "    print(f\"The file {delete_path} does not exist\")\n",
    "'''"
   ]
  }
 ],
 "metadata": {
  "kernelspec": {
   "display_name": "Python 3 (ipykernel)",
   "language": "python",
   "name": "python3"
  },
  "language_info": {
   "codemirror_mode": {
    "name": "ipython",
    "version": 3
   },
   "file_extension": ".py",
   "mimetype": "text/x-python",
   "name": "python",
   "nbconvert_exporter": "python",
   "pygments_lexer": "ipython3",
   "version": "3.11.5"
  }
 },
 "nbformat": 4,
 "nbformat_minor": 4
}
