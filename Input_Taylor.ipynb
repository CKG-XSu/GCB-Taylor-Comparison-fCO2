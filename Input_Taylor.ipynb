{
 "cells": [
  {
   "cell_type": "code",
   "execution_count": null,
   "id": "48c029cc-768c-47ae-a9e5-fe79e106fc1c",
   "metadata": {},
   "outputs": [],
   "source": [
    "import os\n",
    "import datetime\n",
    "from pathlib import Path\n",
    "from collections import defaultdict\n",
    "import scipy\n",
    "import random\n",
    "import numpy as np\n",
    "import xarray as xr\n",
    "import pandas as pd\n",
    "import joblib\n",
    "import pickle\n",
    "import xesmf as xe\n",
    "import glob\n",
    "\n",
    "import seaborn as sns\n",
    "import cmocean as cm            # really nice colorbars\n",
    "import matplotlib.pyplot as plt\n",
    "from sklearn.linear_model import LinearRegression\n",
    "from scipy import stats\n",
    "import gcsfs \n",
    "\n",
    "import requests\n",
    "import io"
   ]
  },
  {
   "cell_type": "code",
   "execution_count": null,
   "id": "14534fee-4703-4f55-bd0f-c2deded0325e",
   "metadata": {},
   "outputs": [],
   "source": []
  },
  {
   "cell_type": "code",
   "execution_count": null,
   "id": "d4160c39-8b00-48d8-aaa5-4f212d823528",
   "metadata": {},
   "outputs": [],
   "source": [
    "# Import data file from google cloud\n",
    "fs = gcsfs.GCSFileSystem()  # initializes cloud storage interface\n",
    "\n",
    "input_data_path = 'YOUR_GCS_PATH/Taylor_data/databases/processed'\n"
   ]
  },
  {
   "cell_type": "code",
   "execution_count": null,
   "id": "911722a1-021e-498e-b7df-31d82eca6230",
   "metadata": {},
   "outputs": [],
   "source": [
    "fs.ls(input_data_path)"
   ]
  },
  {
   "cell_type": "code",
   "execution_count": null,
   "id": "8a5dcf80-1026-433f-b3bd-4d82d6f11f20",
   "metadata": {},
   "outputs": [],
   "source": [
    "fs.ls('YOUR_GCS_PATH/Taylor_data')"
   ]
  },
  {
   "cell_type": "code",
   "execution_count": null,
   "id": "a8af0ce9-be90-4ad8-9619-778cee736780",
   "metadata": {},
   "outputs": [],
   "source": []
  },
  {
   "cell_type": "code",
   "execution_count": null,
   "id": "fbd17aeb-ed4d-4041-b831-b2bde9346ee2",
   "metadata": {},
   "outputs": [],
   "source": [
    "BATS_path = input_data_path + '/bats_spco2_1988-10-2023-06.zarr'\n",
    "HOT_path = input_data_path + '/HOT_spco2_202312.zarr'\n",
    "LDEO_path = input_data_path + '/LDEOv2019_spco2.zarr'\n",
    "GLODAP_path = input_data_path + '/GLODAPv2_spco2_2023.zarr'\n",
    "\n",
    "# SOCCOM_path = "
   ]
  },
  {
   "cell_type": "code",
   "execution_count": null,
   "id": "3bb680d2-3d49-43bf-b213-0a8946491f92",
   "metadata": {},
   "outputs": [],
   "source": []
  },
  {
   "cell_type": "code",
   "execution_count": null,
   "id": "9e33e6f4-7cff-45ca-a5e6-010896aa08bc",
   "metadata": {},
   "outputs": [],
   "source": [
    "def BATS_stats(ml_timeseries,recon,start_yr=1991,end_yr=2023,blat=121,blon=115):\n",
    "    \n",
    "    # determine appropriate START YEAR # \n",
    "    start_yr = max(start_yr, 1991)\n",
    "    end_yr = min(end_yr, 2023)\n",
    "    \n",
    "    # Grab BATS observations:\n",
    "    bats = xr.open_dataset(BATS_path, engine='zarr')\n",
    "    \n",
    "    # Remove duplicates\n",
    "    bats = bats.groupby('time').mean()\n",
    "    # Put BATS monthly averages:\n",
    "    bats_monthly = bats.spco2.to_dataframe().resample('ME').mean()\n",
    "    # Extract years of interest:\n",
    "    bats_monthly = bats_monthly.loc[f'{start_yr}-1-06 00:00:00':f'{end_yr}-12-31 23:59:59']\n",
    "    # 31 50'N 64 10'W ###########     \n",
    "    \n",
    "    # Model already monthly #\n",
    "    pco2_df = ml_timeseries[:,blat,blon].squeeze().to_dataframe()\n",
    "    if start_yr == 1991:\n",
    "        pco2_df = pco2_df.loc[f'{start_yr}-10-01 00:00:00':f'{end_yr}-12-31 23:59:59'] \n",
    "    else:\n",
    "        pco2_df = pco2_df.loc[f'{start_yr}-1-01 00:00:00':f'{end_yr}-12-31 23:59:59']    \n",
    "    \n",
    "    # get time uniform:\n",
    "    bats_monthly = bats_monthly.set_index(pco2_df.index)\n",
    "    \n",
    "    # correlate where no NANs\n",
    "    fib = (~np.isnan(bats_monthly.spco2) & ~np.isnan(pco2_df[recon]))\n",
    "    R = np.corrcoef(pco2_df[recon][fib],bats_monthly.spco2[fib])[0,1]\n",
    "    STD = np.nanstd(pco2_df[recon][fib])\n",
    "    BATS_STD = np.nanstd(bats_monthly.spco2[fib])\n",
    "    \n",
    "    #RMSE\n",
    "    RMSE = np.sqrt(np.square(bats_monthly.spco2[fib]-pco2_df[recon][fib]).sum()/(fib.sum()))\n",
    "    \n",
    "    return R, STD, RMSE, BATS_STD"
   ]
  },
  {
   "cell_type": "code",
   "execution_count": null,
   "id": "3d1316e1-60b6-48ad-8d8f-4bdd2471ca3f",
   "metadata": {},
   "outputs": [],
   "source": [
    "def HOT_stats(ml_timeseries,recon,start_yr=1988,end_yr=2022,hlat=112,hlon=22):\n",
    "    \n",
    "    # determine appropriate START YEAR # \n",
    "    start_yr = max(start_yr, 1988)\n",
    "    end_yr = min(end_yr, 2022)\n",
    "    \n",
    "    # Grab observations\n",
    "    hot = xr.open_mfdataset(HOT_path, engine= 'zarr') \n",
    "    hot = hot.where(hot.spco2>0)\n",
    "    \n",
    "    pco2_df = ml_timeseries[:,hlat,hlon].squeeze().to_dataframe()\n",
    "    if start_yr == 1988:\n",
    "        pco2_df = pco2_df.loc[f'{start_yr}-10-01 00:00:00':f'{end_yr}-12-31 00:00:00']\n",
    "    else:\n",
    "        pco2_df = pco2_df.loc[f'{start_yr}-1-01 00:00:00':f'{end_yr}-12-31 00:00:00']\n",
    "        \n",
    "    \n",
    "    # P\n",
    "    if not isinstance(hot.spco2.to_dataframe().index, pd.DatetimeIndex):\n",
    "        df_temp = hot.spco2.to_dataframe()\n",
    "        df_temp.index = pd.to_datetime(df_temp.index)\n",
    "        hots_monthly = df_temp.resample('ME').mean()  \n",
    "    else:\n",
    "        hots_monthly = hot.spco2.to_dataframe().resample('ME').mean()\n",
    "    hots_monthly = hots_monthly.loc[f'{start_yr}-1-01 00:00:00':f'{end_yr}-12-31 00:00:00']\n",
    "    hots_monthly = hots_monthly.set_index(pco2_df.index)\n",
    "    # Point by point comparison #\n",
    "    ind = ((~np.isnan(hots_monthly.spco2)) & (hots_monthly.spco2 > 150) & (~np.isnan(pco2_df[recon])))\n",
    "    R = np.corrcoef(pco2_df[recon][ind],hots_monthly.spco2[ind])[0,1]\n",
    "    \n",
    "    STD = np.std(pco2_df[recon][ind])\n",
    "    HOT_STD = np.nanstd(hots_monthly.spco2[ind])\n",
    "    \n",
    "    #RMSE\n",
    "    RMSE = np.sqrt(np.square(hots_monthly.spco2[ind]-pco2_df[recon][ind]).sum()/ind.sum())\n",
    "    \n",
    "    # We want to know the correlation coef, STD of reconstruction, trendline, seasonal cycle:\n",
    "    return R, STD, RMSE, HOT_STD"
   ]
  },
  {
   "cell_type": "code",
   "execution_count": null,
   "id": "effb044b-9f62-4c54-a85c-64093bebe91e",
   "metadata": {},
   "outputs": [],
   "source": [
    "def LDEO_stats(ml_gridded,recon,start_yr=1957,end_yr=2019):\n",
    "    \n",
    "    # determine appropriate START YEAR # \n",
    "    start_yr = max(start_yr, 1957)\n",
    "    end_yr = min(end_yr, 2019)\n",
    "\n",
    "    # if recon in ['CSIR_ML6','JENA_MLS','JMA_MLR','MPI_SOMFFN','NIES_FNN','CMEMS_FFNN','spco2','HPD','resid']:\n",
    "    # lon = ml_gridded.lon\n",
    "    # lat = ml_gridded.lat\n",
    "    # else:\n",
    "        #     lon = ml_gridded.xlon\n",
    "    #     lat = ml_gridded.ylat\n",
    "    if 'lon' in ml_gridded.coords:\n",
    "        lon = ml_gridded.lon\n",
    "    else:\n",
    "        lon = ml_gridded.xlon\n",
    "    \n",
    "    if 'lat' in ml_gridded.coords:\n",
    "        lat = ml_gridded.lat\n",
    "    else:\n",
    "        lat = ml_gridded.ylat\n",
    "        \n",
    "    mtime = ml_gridded.time\n",
    "\n",
    "    # Load the observations\n",
    "    ldeo = xr.open_mfdataset(LDEO_path, engine= 'zarr') \n",
    "    ldeo_pco2=ldeo.spco2_mean[(start_yr-1985)*12:(end_yr)*12,:,:]\n",
    "    ldeo_lat=ldeo.lat\n",
    "    ldeo_lon=ldeo.lon\n",
    "    ldeo_time = ldeo.time\n",
    "    \n",
    "    # Regrid to LDEO's grid #########\n",
    "    mgrid = xr.Dataset({'lat':(['lat'],lat.values),'lon':(['lon'],lon.values)})\n",
    "    lgrid = xr.Dataset({'lat':(['lat'],ldeo_lat.values),'lon':(['lon'],ldeo_lon.values)})\n",
    "    mpco2 = xr.Dataset({recon:(['time','lat','lon'],ml_gridded.values),'time':(['time'],mtime.values),'lat':(['lat'],lat.values),'lon':(['lon'],lon.values)})\n",
    "    regridder = xe.Regridder(mpco2, lgrid, 'bilinear',periodic = True)\n",
    "    pco2_new = regridder(ml_gridded)\n",
    "\n",
    "    ldeo_pco2 = ldeo_pco2.where(((ldeo_pco2<850) & (ldeo_pco2>150)))\n",
    "    ldeo_pco2 = ldeo_pco2.loc[f'{start_yr}-1-01 00:00:00':f'{end_yr}-12-31 00:00:00']\n",
    "    pco2_new = pco2_new.loc[f'{start_yr}-1-01 00:00:00':f'{end_yr}-12-31 00:00:00']\n",
    "    \n",
    "\n",
    "    # stack\n",
    "    lpco2 = ldeo_pco2.stack(level=['time','lat','lon'])\n",
    "    pco2_stack = pco2_new.stack(level=['time','lat','lon'])\n",
    "    \n",
    "    indx = ((~np.isnan(lpco2.values)) & (~np.isnan(pco2_stack.values)) & (pco2_stack.values > 50))\n",
    "    # print(\"LDEO OBS # =\",sum(indx))\n",
    "\n",
    "    R = np.corrcoef(lpco2[indx],pco2_stack[indx])[0,1]\n",
    "    LDEO_STD = np.std(lpco2[indx].values)\n",
    "    STD = np.std(pco2_stack[indx].values)\n",
    "    #RMSE\n",
    "    RMSE = np.sqrt(np.square(lpco2[indx].values-pco2_stack[indx].values).sum()/indx.sum())\n",
    "    \n",
    "    return R, STD, RMSE, LDEO_STD"
   ]
  },
  {
   "cell_type": "code",
   "execution_count": null,
   "id": "a19be6ca-60d9-4c98-818c-c9497c5a2432",
   "metadata": {},
   "outputs": [],
   "source": [
    "def GLODAP_stats(ml_gridded,recon,start_yr=1986,end_yr=2021):\n",
    "    \n",
    "    # Reconstructions #\n",
    "    # if recon in ['CSIR_ML6','JENA_MLS','JMA_MLR','MPI_SOMFFN','NIES_FNN','CMEMS_FFNN','spco2','HPD','resid']:\n",
    "    # lon = ml_gridded.lon\n",
    "    # lat = ml_gridded.lat\n",
    "    # else:\n",
    "    #     lon = ml_gridded.xlon\n",
    "    #     lat = ml_gridded.ylat\n",
    "\n",
    "    if 'lon' in ml_gridded.coords:\n",
    "        lon = ml_gridded.lon\n",
    "    else:\n",
    "        lon = ml_gridded.xlon\n",
    "    \n",
    "    if 'lat' in ml_gridded.coords:\n",
    "        lat = ml_gridded.lat\n",
    "    else:\n",
    "        lat = ml_gridded.ylat\n",
    "        \n",
    "    start_yr = max(start_yr,1986)\n",
    "    end_yr = min(end_yr,2021)\n",
    "    \n",
    "    mtime = ml_gridded.time\n",
    "    \n",
    "    # Load the data #\n",
    "    glod = xr.open_mfdataset(GLODAP_path, engine= 'zarr') \n",
    "    glod_pco2=glod.spco2_mean\n",
    "    glod_lat=glod.lat\n",
    "    glod_lon=glod.lon\n",
    "    glod_time = glod.time\n",
    "    \n",
    "    # Deal with NaNs #\n",
    "    tmp = ml_gridded.where(ml_gridded > 0)\n",
    "    tmp = tmp.where(tmp < 850)\n",
    "    \n",
    "    # Regrid to GLODAP grid #\n",
    "    mgrid = xr.Dataset({'lat':(['lat'],lat.values),'lon':(['lon'],lon.values)})\n",
    "    ggrid = xr.Dataset({'lat':(['lat'],glod_lat.values),'lon':(['lon'],glod_lon.values)})\n",
    "    # mpco2 = xr.Dataset({recon:(['time','lat','lon'、],tmp),'time':(['time'],mtime.values),'lat':(['lat'],lat.values),'lon':(['lon'],lon.values)})\n",
    "    mpco2 = xr.Dataset({\n",
    "    recon: (['time', 'lat', 'lon'], tmp.data), \n",
    "    'time': (['time'], mtime.values),\n",
    "    'lat': (['lat'], lat.values),\n",
    "    'lon': (['lon'], lon.values)\n",
    "    })\n",
    "    \n",
    "    regridder = xe.Regridder(mpco2, ggrid, 'bilinear',periodic = True) #,'periodic'\n",
    "    pco2_new = regridder(tmp)\n",
    "    \n",
    "    # Extract Time #\n",
    "    glod_pco2 = glod_pco2.loc[f'{start_yr}-1-01 00:00:00':f'{end_yr}-12-31 00:00:00']\n",
    "    glod_pco2 = glod_pco2.where(((glod_pco2 >200) & (glod_pco2 < 600)))\n",
    "    if start_yr == 1986:\n",
    "        pco2_new = pco2_new.loc[f'{start_yr}-7-15 00:00:00':f'{end_yr}-12-31 00:00:00']\n",
    "    else:\n",
    "        pco2_new = pco2_new.loc[f'{start_yr}-1-01 00:00:00':f'{end_yr}-12-31 00:00:00']\n",
    "    \n",
    "    # Stack\n",
    "    gpco2_stack = glod_pco2.stack(level=['time','lat','lon'])\n",
    "    pco2_stack = pco2_new.stack(level=['time','lat','lon'])\n",
    "    \n",
    "    # Stats\n",
    "    indx = ((~np.isnan(gpco2_stack.values)) & (~np.isnan(pco2_stack.values)) & (pco2_stack.values>50))\n",
    "    R = np.corrcoef(gpco2_stack[indx],pco2_stack[indx])[0,1]\n",
    "    GLODAP_STD = np.std(gpco2_stack[indx].values)\n",
    "    STD = np.std(pco2_stack[indx].values)\n",
    "    #RMSE\n",
    "    RMSE = np.sqrt(np.square(gpco2_stack[indx].values-pco2_stack[indx].values).sum()/indx.sum())\n",
    "    \n",
    "    return R, STD, RMSE, GLODAP_STD"
   ]
  },
  {
   "cell_type": "code",
   "execution_count": null,
   "id": "0f700a7b-c629-42c1-b80f-ee986b3bb918",
   "metadata": {},
   "outputs": [],
   "source": []
  },
  {
   "cell_type": "code",
   "execution_count": null,
   "id": "ed79dad8-c319-4e22-9f10-e49ed48a3852",
   "metadata": {},
   "outputs": [],
   "source": [
    "# Set up dataframe #\n",
    "####################\n",
    "df = pd.DataFrame() # create empty data frame\n",
    "df['stats']= [\"R_BATS\",\"STD_BATS\",\"RMSE_BATS\",\"R_HOT\",\"STD_HOT\",\"RMSE_HOT\", \"R_LDEO\",\"STD_LDEO\",\"RMSE_LDEO\", \"R_GLODAP\",\"STD_GLODAP\",\"RMSE_GLODAP\"]\n",
    "df.set_index([pd.Index([\"R_BATS\",\"STD_BATS\",\"RMSE_BATS\",\"R_HOT\",\"STD_HOT\",\"RMSE_HOT\", \"R_LDEO\",\"STD_LDEO\",\"RMSE_LDEO\", \"R_GLODAP\",\"STD_GLODAP\",\"RMSE_GLODAP\"]), 'stats'])\n"
   ]
  },
  {
   "cell_type": "code",
   "execution_count": null,
   "id": "0e6fba5a-6bc4-4738-9c9d-58c000a85ac6",
   "metadata": {},
   "outputs": [],
   "source": [
    "# Set up the time rage we want\n",
    "start_yr = 1990 \n",
    "end_yr = 2020"
   ]
  },
  {
   "cell_type": "markdown",
   "id": "a09f9cdf-3016-4a36-83b8-e64127311591",
   "metadata": {},
   "source": [
    "Residual"
   ]
  },
  {
   "cell_type": "code",
   "execution_count": null,
   "id": "9deaf2f2-7e78-4c9e-93b8-d5baed512e07",
   "metadata": {
    "scrolled": true
   },
   "outputs": [],
   "source": [
    "# update the Residual product. download from zenodo.\n",
    "# get the url from https://zenodo.org/records/7636890\n",
    "# resid_url = \"https://zenodo.org/records/7636890/files/LDEO-resid_1985-2021.nc?download=1\"\n",
    "\n",
    "### If you want to download from zenodo and not to save it on the GCS, use these code.\n",
    "# response = requests.get(resid_url)\n",
    "# response.raise_for_status()  # make sure download successfully\n",
    "# # Save to temporary memory\n",
    "# data_in_memory = io.BytesIO(response.content)\n",
    "# # open as xarray\n",
    "# ds = xr.open_dataset(data_in_memory, engine='h5netcdf', chunks={})\n",
    "# gridded = ds.pco2\n",
    "# # resid_product = ds.pco2\n",
    "# recon = 'pco2' #just what the variable is called.\n",
    "####\n",
    "\n",
    "# Here we use the 2022 version from LEAP Pangeo\n",
    "resid_url = 'gs://leap-persistent/galenmckinley/reconstructions/pCO2_LEAP_XGBoost-fco2-residual-reconstructed_198201-202212.zarr'\n",
    "# open as xarray\n",
    "ds = xr.open_mfdataset(resid_url,engine= 'zarr')\n",
    "\n",
    "gridded = ds.fco2_reconstructed\n",
    "recon = 'fco2_reconstructed' #just what the variable is called."
   ]
  },
  {
   "cell_type": "code",
   "execution_count": null,
   "id": "ae189e08-dea5-41bc-b4d8-424c87cf383a",
   "metadata": {},
   "outputs": [],
   "source": [
    "R_BATS, STD_BATS, RMSE_BATS, b_obs = BATS_stats(gridded,recon,start_yr=start_yr,end_yr=end_yr)\n",
    "\n",
    "R_HOT, STD_HOT, RMSE_HOT, h_obs = HOT_stats(gridded,recon,start_yr=start_yr,end_yr=end_yr) # handle starts/ends in routines\n",
    "\n",
    "# R_SOCCOM, STD_SOCCOM, RMSE_SOCCOM, s_obs = SOCCOM_stats(gridded,recon,start_yr=start_yr,end_yr=end_yr)\n",
    "\n",
    "R_LDEO, STD_LDEO, RMSE_LDEO, l_obs = LDEO_stats(gridded,recon,start_yr=start_yr,end_yr=end_yr)\n",
    "\n",
    "R_GLODAP, STD_GLODAP, RMSE_GLODAP, g_obs = GLODAP_stats(gridded,recon,start_yr=start_yr,end_yr=end_yr)"
   ]
  },
  {
   "cell_type": "code",
   "execution_count": null,
   "id": "6a1039e8-92bf-4969-9507-e79712c482a4",
   "metadata": {},
   "outputs": [],
   "source": [
    "df['Residual']=[R_BATS,STD_BATS,RMSE_BATS,R_HOT,STD_HOT,RMSE_HOT, R_LDEO,STD_LDEO,RMSE_LDEO, R_GLODAP,STD_GLODAP,RMSE_GLODAP]\n",
    "#put the observered on there too.\n",
    "df['observed']=[1,b_obs,0,1,h_obs,0,1,l_obs,0,1,g_obs,0] #not sure exactly but doing what val does with this"
   ]
  },
  {
   "cell_type": "code",
   "execution_count": null,
   "id": "ed1cb308-358a-4f81-9286-bd3b37b64e30",
   "metadata": {},
   "outputs": [],
   "source": [
    "df.head()"
   ]
  },
  {
   "cell_type": "code",
   "execution_count": null,
   "id": "3350709d-b370-4c92-8d95-371ffa3652e4",
   "metadata": {},
   "outputs": [],
   "source": []
  },
  {
   "cell_type": "markdown",
   "id": "100ae6a4-589c-4d19-b88f-a07804f554cd",
   "metadata": {},
   "source": [
    "HPD product "
   ]
  },
  {
   "cell_type": "code",
   "execution_count": null,
   "id": "9fa9f2a0-c38d-40e2-bf66-6357e2abea8a",
   "metadata": {},
   "outputs": [],
   "source": [
    "# update and grab HPD product. download from zenodo.\n",
    "# get the url from: https://zenodo.org/records/10222484\n",
    "HPD_url = \"https://zenodo.org/records/10222484/files/GCB-2023_dataprod_LDEO-HPD_1959-2022.nc?download=1\"\n",
    "directory = 'YOUR_GCS_PATH/Taylor_data/data_products'\n",
    "# Edit the file name if needed\n",
    "save_path = f'{directory}/GCB-2023_dataprod_LDEO-HPD_1959-2022.zarr'\n",
    "\n",
    "fs = gcsfs.GCSFileSystem()\n",
    "\n",
    "# Check if we already have the file on GCS\n",
    "if fs.exists(save_path):\n",
    "    print(f\"File already exists at {save_path}. Loading from GCS.\")\n",
    "    ds = xr.open_mfdataset(save_path, engine = 'zarr')\n",
    "else:\n",
    "    print(f\"File does not exist at {save_path}. Downloading and saving.\")\n",
    "    response = requests.get(HPD_url)\n",
    "    if response.status_code == 200:\n",
    "        with open('temp.nc', 'wb') as temp_file:\n",
    "            temp_file.write(response.content)\n",
    "        ds = xr.open_dataset('temp.nc')\n",
    "        ds.to_zarr(save_path, mode='w')\n",
    "        print(f\"Successfully downloaded and saved to {save_path}\")\n",
    "        os.remove('temp.nc')\n",
    "    else:\n",
    "        print(f\"Error! Could not download the file: {response.status_code}\")"
   ]
  },
  {
   "cell_type": "code",
   "execution_count": null,
   "id": "4ca85b55-c43b-498e-957c-1597d5f7ba87",
   "metadata": {
    "scrolled": true
   },
   "outputs": [],
   "source": [
    "# gridded = ds.sfco2\n",
    "gridded = ds.sfco2.loc[f'{start_yr}-1-01 00:00:00':f'{end_yr}-12-31 00:00:00']\n",
    "gridded.coords['lon'] = (gridded.coords['lon'] + 180) % 360 - 180\n",
    "gridded = gridded.sortby(gridded.lon)\n",
    "\n",
    "recon = 'sfco2' #just what the variable is called."
   ]
  },
  {
   "cell_type": "code",
   "execution_count": null,
   "id": "b53244f5-ffbf-4441-ba90-a89d5bab802e",
   "metadata": {},
   "outputs": [],
   "source": [
    "R_BATS, STD_BATS, RMSE_BATS, obs = BATS_stats(gridded,recon,start_yr=start_yr,end_yr=end_yr)\n",
    "\n",
    "R_HOT, STD_HOT, RMSE_HOT, obs = HOT_stats(gridded,recon,start_yr=start_yr,end_yr=end_yr) # handle starts/ends in routines\n",
    "\n",
    "# R_SOCCOM, STD_SOCCOM, RMSE_SOCCOM, obs = SOCCOM_stats(gridded,recon,start_yr=start_yr,end_yr=end_yr)\n",
    "\n",
    "R_LDEO, STD_LDEO, RMSE_LDEO, obs = LDEO_stats(gridded,recon,start_yr=start_yr,end_yr=end_yr)\n",
    "\n",
    "R_GLODAP, STD_GLODAP, RMSE_GLODAP, obs = GLODAP_stats(gridded,recon,start_yr=start_yr,end_yr=end_yr)"
   ]
  },
  {
   "cell_type": "code",
   "execution_count": null,
   "id": "1615876c-ad88-417f-8e41-a2fe0b0b3c20",
   "metadata": {},
   "outputs": [],
   "source": [
    "df['HPD']=[R_BATS,STD_BATS,RMSE_BATS,R_HOT,STD_HOT,RMSE_HOT, R_LDEO,STD_LDEO,RMSE_LDEO, R_GLODAP,STD_GLODAP,RMSE_GLODAP]\n",
    "df"
   ]
  },
  {
   "cell_type": "markdown",
   "id": "4880fc78-6a2e-4ed0-a45c-349f70c92348",
   "metadata": {},
   "source": [
    "CMEMS-LSCE-FFNN"
   ]
  },
  {
   "cell_type": "code",
   "execution_count": null,
   "id": "c3618e43-ddfb-4013-a619-22e84b40683d",
   "metadata": {},
   "outputs": [],
   "source": [
    "# CMEMS. download from zenodo.\n",
    "# get the url from: https://zenodo.org/records/10222484\n",
    "CMEMS_url = \"https://zenodo.org/records/10222484/files/GCB-2023_dataprod_CMEMS-LSCE-FFNN_1990-2022.nc?download=1\"\n",
    "directory = 'YOUR_GCS_PATH/Taylor_data/data_products'\n",
    "# Edit the file name if needed\n",
    "save_path = f'{directory}/GCB-2023_dataprod_CMEMS-LSCE-FFNN_1990-2022.zarr'\n",
    "\n",
    "fs = gcsfs.GCSFileSystem()\n",
    "\n",
    "# Check if we already have the file on GCS\n",
    "if fs.exists(save_path):\n",
    "    print(f\"File already exists at {save_path}. Loading from GCS.\")\n",
    "    ds = xr.open_mfdataset(save_path, engine = 'zarr')\n",
    "else:\n",
    "    print(f\"File does not exist at {save_path}. Downloading and saving.\")\n",
    "    response = requests.get(CMEMS_url)\n",
    "    if response.status_code == 200:\n",
    "        with open('temp.nc', 'wb') as temp_file:\n",
    "            temp_file.write(response.content)\n",
    "        ds = xr.open_dataset('temp.nc')\n",
    "        ds.to_zarr(save_path, mode='w')\n",
    "        print(f\"Successfully downloaded and saved to {save_path}\")\n",
    "        os.remove('temp.nc')\n",
    "    else:\n",
    "        print(f\"Error! Could not download the file: {response.status_code}\")"
   ]
  },
  {
   "cell_type": "code",
   "execution_count": null,
   "id": "e5e6d653-3348-4891-8eb7-f69219d58c45",
   "metadata": {},
   "outputs": [],
   "source": [
    "# gridded = ds.sfco2\n",
    "gridded = ds.sfco2.loc[f'{start_yr}-1-01 00:00:00':f'{end_yr}-12-31 00:00:00']\n",
    "\n",
    "#regrid longitude\n",
    "gridded.coords['lon'] = (gridded.coords['lon'] + 180) % 360 - 180\n",
    "gridded = gridded.sortby(gridded.lon)\n",
    "\n",
    "#CMEMS is too short (starts in 1990) so need to add blank months before 1990 to make it the same size?\n",
    "gridded2 = gridded.loc['1992-1-01 00:00:00':'1999-12-31 00:00:00']\n",
    "gridded2 = gridded2.where(gridded2 < 0) #this turns anything that is 0 or greater (not true in this equation) to nan.\n",
    "\n",
    "earlytime = pd.date_range(start='1982-01-01', end='1989-12-31',freq='MS') + np.timedelta64(14, 'D') \n",
    "\n",
    "gridded2 = gridded2.assign_coords(time=earlytime) #overwrite time dimension to be midmonth\n",
    "\n",
    "gridded2.coords['lon'] = (gridded2.coords['lon'] + 180) % 360 - 180\n",
    "gridded2 = gridded2.sortby(gridded2.lon)\n",
    "\n",
    "#concat gridded2 and gridded for CMEMS:\n",
    "gridded_long = xr.concat([gridded2,gridded],dim='time')\n",
    "\n",
    "recon = 'sfco2' #need this to work with *****_stats functions above. But not sure what to make it or how to not need it."
   ]
  },
  {
   "cell_type": "code",
   "execution_count": null,
   "id": "c49b8e52-08db-48c4-9b8a-b77cc9366e0d",
   "metadata": {},
   "outputs": [],
   "source": [
    "R_BATS, STD_BATS, RMSE_BATS, obs = BATS_stats(gridded,recon,start_yr=start_yr,end_yr=end_yr)\n",
    "\n",
    "R_HOT, STD_HOT, RMSE_HOT, obs = HOT_stats(gridded,recon,start_yr=start_yr,end_yr=end_yr) # handle starts/ends in routines\n",
    "\n",
    "# R_SOCCOM, STD_SOCCOM, RMSE_SOCCOM, obs = SOCCOM_stats(gridded,recon,start_yr=start_yr,end_yr=end_yr)\n",
    "\n",
    "R_LDEO, STD_LDEO, RMSE_LDEO, obs = LDEO_stats(gridded,recon,start_yr=start_yr,end_yr=end_yr)\n",
    "\n",
    "R_GLODAP, STD_GLODAP, RMSE_GLODAP, obs = GLODAP_stats(gridded,recon,start_yr=start_yr,end_yr=end_yr)"
   ]
  },
  {
   "cell_type": "code",
   "execution_count": null,
   "id": "c1bcf812-7d1f-42bb-8d17-03cc353b7211",
   "metadata": {},
   "outputs": [],
   "source": [
    "df['CMEMS']=[R_BATS,STD_BATS,RMSE_BATS,R_HOT,STD_HOT,RMSE_HOT, R_LDEO,STD_LDEO,RMSE_LDEO, R_GLODAP,STD_GLODAP,RMSE_GLODAP]\n",
    "df"
   ]
  },
  {
   "cell_type": "markdown",
   "id": "c5cc24d5-21c2-4e38-b2f7-c12a831f3400",
   "metadata": {},
   "source": [
    "JENA-MLS"
   ]
  },
  {
   "cell_type": "code",
   "execution_count": null,
   "id": "b68ed481-6ec9-43b9-9b86-f604f1f5c72e",
   "metadata": {},
   "outputs": [],
   "source": [
    "# JENA. download from zenodo.\n",
    "# get the url from: https://zenodo.org/records/10222484\n",
    "JENA_url = \"https://zenodo.org/records/10222484/files/GCB-2023_dataprod_JENA-MLS_1957-2022.nc?download=1\"\n",
    "directory = 'YOUR_GCS_PATH/Taylor_data/data_products'\n",
    "# Edit the file name if needed\n",
    "save_path = f'{directory}/GCB-2023_dataprod_JENA-MLS_1957-2022.zarr'\n",
    "\n",
    "fs = gcsfs.GCSFileSystem()\n",
    "\n",
    "# Check if we already have the file on GCS\n",
    "if fs.exists(save_path):\n",
    "    print(f\"File already exists at {save_path}. Loading from GCS.\")\n",
    "    ds = xr.open_mfdataset(save_path, engine = 'zarr')\n",
    "else:\n",
    "    print(f\"File does not exist at {save_path}. Downloading and saving.\")\n",
    "    response = requests.get(JENA_url)\n",
    "    if response.status_code == 200:\n",
    "        with open('temp.nc', 'wb') as temp_file:\n",
    "            temp_file.write(response.content)\n",
    "        ds = xr.open_dataset('temp.nc')\n",
    "        ds.to_zarr(save_path, mode='w')\n",
    "        print(f\"Successfully downloaded and saved to {save_path}\")\n",
    "        os.remove('temp.nc')\n",
    "    else:\n",
    "        print(f\"Error! Could not download the file: {response.status_code}\")"
   ]
  },
  {
   "cell_type": "code",
   "execution_count": null,
   "id": "2ed81411-53f5-47f3-94ad-e716a25e45e9",
   "metadata": {},
   "outputs": [],
   "source": [
    "# gridded = ds.sfco2\n",
    "gridded = ds.sfco2.loc[f'{start_yr}-1-01 00:00:00':f'{end_yr}-12-31 00:00:00']\n",
    "\n",
    "#regrid longitude\n",
    "gridded.coords['lon'] = (gridded.coords['lon'] + 180) % 360 - 180\n",
    "gridded = gridded.sortby(gridded.lon)\n",
    "recon = 'sfco2'  #just what the variable is called."
   ]
  },
  {
   "cell_type": "code",
   "execution_count": null,
   "id": "2cf6246f-76a7-440f-9de8-723d7b2e6616",
   "metadata": {},
   "outputs": [],
   "source": [
    "R_BATS, STD_BATS, RMSE_BATS, obs = BATS_stats(gridded,recon,start_yr=start_yr,end_yr=end_yr)\n",
    "\n",
    "R_HOT, STD_HOT, RMSE_HOT, obs = HOT_stats(gridded,recon,start_yr=start_yr,end_yr=end_yr) # handle starts/ends in routines\n",
    "\n",
    "# R_SOCCOM, STD_SOCCOM, RMSE_SOCCOM, obs = SOCCOM_stats(gridded,recon,start_yr=start_yr,end_yr=end_yr)\n",
    "\n",
    "R_LDEO, STD_LDEO, RMSE_LDEO, obs = LDEO_stats(gridded,recon,start_yr=start_yr,end_yr=end_yr)\n",
    "\n",
    "R_GLODAP, STD_GLODAP, RMSE_GLODAP, obs = GLODAP_stats(gridded,recon,start_yr=start_yr,end_yr=end_yr)"
   ]
  },
  {
   "cell_type": "code",
   "execution_count": null,
   "id": "00844a3e-6913-437b-97be-0fb8ea3366fc",
   "metadata": {},
   "outputs": [],
   "source": [
    "df['JENA']=[R_BATS,STD_BATS,RMSE_BATS,R_HOT,STD_HOT,RMSE_HOT, R_LDEO,STD_LDEO,RMSE_LDEO, R_GLODAP,STD_GLODAP,RMSE_GLODAP]\n",
    "df"
   ]
  },
  {
   "cell_type": "markdown",
   "id": "83d7a12a-2c85-4160-8ec0-2df4532ea150",
   "metadata": {},
   "source": [
    "JMA-MLR"
   ]
  },
  {
   "cell_type": "code",
   "execution_count": null,
   "id": "be1d3b21-6993-425d-a554-4e088a0feb8c",
   "metadata": {},
   "outputs": [],
   "source": [
    "# JMA. download from zenodo.\n",
    "# get the url from: https://zenodo.org/records/10222484\n",
    "JMA_url = \"https://zenodo.org/records/10222484/files/GCB-2023_dataprod_JMA-MLR_1985-2022.nc?download=1\"\n",
    "directory = 'YOUR_GCS_PATH/Taylor_data/data_products'\n",
    "# Edit the file name if needed\n",
    "save_path = f'{directory}/GCB-2023_dataprod_JMA-MLR_1985-2022.zarr'\n",
    "\n",
    "fs = gcsfs.GCSFileSystem()\n",
    "\n",
    "# Check if we already have the file on GCS\n",
    "if fs.exists(save_path):\n",
    "    print(f\"File already exists at {save_path}. Loading from GCS.\")\n",
    "    ds = xr.open_mfdataset(save_path, engine = 'zarr')\n",
    "else:\n",
    "    print(f\"File does not exist at {save_path}. Downloading and saving.\")\n",
    "    response = requests.get(JMA_url)\n",
    "    if response.status_code == 200:\n",
    "        with open('temp.nc', 'wb') as temp_file:\n",
    "            temp_file.write(response.content)\n",
    "        ds = xr.open_dataset('temp.nc')\n",
    "        ds.to_zarr(save_path, mode='w')\n",
    "        print(f\"Successfully downloaded and saved to {save_path}\")\n",
    "        os.remove('temp.nc')\n",
    "    else:\n",
    "        print(f\"Error! Could not download the file: {response.status_code}\")"
   ]
  },
  {
   "cell_type": "code",
   "execution_count": null,
   "id": "478cbd85-5454-4222-a5a0-0776c96eec18",
   "metadata": {},
   "outputs": [],
   "source": [
    "# gridded = ds.sfco2\n",
    "gridded = ds.sfco2.loc[f'{start_yr}-1-01 00:00:00':f'{end_yr}-12-31 00:00:00']\n",
    "\n",
    "#regrid longitude\n",
    "gridded.coords['lon'] = (gridded.coords['lon'] + 180) % 360 - 180\n",
    "gridded = gridded.sortby(gridded.lon)\n",
    "\n",
    "recon = 'sfco2'  #just what the variable is called."
   ]
  },
  {
   "cell_type": "code",
   "execution_count": null,
   "id": "e4d1fe38-da29-4780-acdb-107f837da10d",
   "metadata": {},
   "outputs": [],
   "source": [
    "R_BATS, STD_BATS, RMSE_BATS, obs = BATS_stats(gridded,recon,start_yr=start_yr,end_yr=end_yr)\n",
    "\n",
    "R_HOT, STD_HOT, RMSE_HOT, obs = HOT_stats(gridded,recon,start_yr=start_yr,end_yr=end_yr) # handle starts/ends in routines\n",
    "\n",
    "# R_SOCCOM, STD_SOCCOM, RMSE_SOCCOM, obs = SOCCOM_stats(gridded,recon,start_yr=start_yr,end_yr=end_yr)\n",
    "\n",
    "R_LDEO, STD_LDEO, RMSE_LDEO, obs = LDEO_stats(gridded,recon,start_yr=start_yr,end_yr=end_yr)\n",
    "\n",
    "R_GLODAP, STD_GLODAP, RMSE_GLODAP, obs = GLODAP_stats(gridded,recon,start_yr=start_yr,end_yr=end_yr)"
   ]
  },
  {
   "cell_type": "code",
   "execution_count": null,
   "id": "0db4821b-3df8-43c6-824b-74bd666d912d",
   "metadata": {},
   "outputs": [],
   "source": [
    "df['JMA']=[R_BATS,STD_BATS,RMSE_BATS,R_HOT,STD_HOT,RMSE_HOT, R_LDEO,STD_LDEO,RMSE_LDEO, R_GLODAP,STD_GLODAP,RMSE_GLODAP]\n",
    "df"
   ]
  },
  {
   "cell_type": "markdown",
   "id": "48bbea9b-7e53-432f-8b40-8c695e28911c",
   "metadata": {},
   "source": [
    "NIES-ML3"
   ]
  },
  {
   "cell_type": "code",
   "execution_count": null,
   "id": "c209fa14-d8c4-46a7-90d2-0c9764c81055",
   "metadata": {},
   "outputs": [],
   "source": [
    "# NIES. download from zenodo.\n",
    "# get the url from: https://zenodo.org/records/10222484\n",
    "NIES_url = \"https://zenodo.org/records/10222484/files/GCB-2023_dataprod_NIES-ML3_1980-2022.nc?download=1\"\n",
    "directory = 'YOUR_GCS_PATH/Taylor_data/data_products'\n",
    "# Edit the file name if needed\n",
    "save_path = f'{directory}/GCB-2023_dataprod_NIES-ML3_1980-2022.zarr'\n",
    "\n",
    "fs = gcsfs.GCSFileSystem()\n",
    "\n",
    "# Check if we already have the file on GCS\n",
    "if fs.exists(save_path):\n",
    "    print(f\"File already exists at {save_path}. Loading from GCS.\")\n",
    "    ds = xr.open_mfdataset(save_path, engine = 'zarr')\n",
    "else:\n",
    "    print(f\"File does not exist at {save_path}. Downloading and saving.\")\n",
    "    response = requests.get(NIES_url)\n",
    "    if response.status_code == 200:\n",
    "        with open('temp.nc', 'wb') as temp_file:\n",
    "            temp_file.write(response.content)\n",
    "        ds = xr.open_dataset('temp.nc')\n",
    "        ds.to_zarr(save_path, mode='w')\n",
    "        print(f\"Successfully downloaded and saved to {save_path}\")\n",
    "        os.remove('temp.nc')\n",
    "    else:\n",
    "        print(f\"Error! Could not download the file: {response.status_code}\")"
   ]
  },
  {
   "cell_type": "code",
   "execution_count": null,
   "id": "cde9c138-9a7f-4dda-891a-6252b27b5186",
   "metadata": {},
   "outputs": [],
   "source": [
    "# gridded = ds.sfco2\n",
    "gridded = ds.sfco2.loc[f'{start_yr}-1-01 00:00:00':f'{end_yr}-12-31 00:00:00'] \n",
    "\n",
    "#regrid longitude\n",
    "gridded.coords['lon'] = (gridded.coords['lon'] + 180) % 360 - 180\n",
    "gridded = gridded.sortby(gridded.lon)\n",
    "\n",
    "recon = 'sfco2'  #just what the variable is called."
   ]
  },
  {
   "cell_type": "code",
   "execution_count": null,
   "id": "2c8fc324-40df-4b63-a4a7-ecd1c4547985",
   "metadata": {},
   "outputs": [],
   "source": [
    "R_BATS, STD_BATS, RMSE_BATS, obs = BATS_stats(gridded,recon,start_yr=start_yr,end_yr=end_yr)\n",
    "\n",
    "R_HOT, STD_HOT, RMSE_HOT, obs = HOT_stats(gridded,recon,start_yr=start_yr,end_yr=end_yr) # handle starts/ends in routines\n",
    "\n",
    "# R_SOCCOM, STD_SOCCOM, RMSE_SOCCOM, obs = SOCCOM_stats(gridded,recon,start_yr=start_yr,end_yr=end_yr)\n",
    "\n",
    "R_LDEO, STD_LDEO, RMSE_LDEO, obs = LDEO_stats(gridded,recon,start_yr=start_yr,end_yr=end_yr)\n",
    "\n",
    "R_GLODAP, STD_GLODAP, RMSE_GLODAP, obs = GLODAP_stats(gridded,recon,start_yr=start_yr,end_yr=end_yr)"
   ]
  },
  {
   "cell_type": "code",
   "execution_count": null,
   "id": "77533de6-263d-440d-b9bf-87e7adddb8c0",
   "metadata": {},
   "outputs": [],
   "source": [
    "df['NIES']=[R_BATS,STD_BATS,RMSE_BATS,R_HOT,STD_HOT,RMSE_HOT, R_LDEO,STD_LDEO,RMSE_LDEO, R_GLODAP,STD_GLODAP,RMSE_GLODAP]\n",
    "df"
   ]
  },
  {
   "cell_type": "markdown",
   "id": "0a10a1da-ebed-4db3-b75f-a2dbb28dbdb3",
   "metadata": {},
   "source": [
    "SOM-FFN"
   ]
  },
  {
   "cell_type": "code",
   "execution_count": null,
   "id": "d8ea9aba-e15f-494b-85e0-221a2239188b",
   "metadata": {},
   "outputs": [],
   "source": [
    "# SOMFFN. download from zenodo.\n",
    "# get the url from: https://zenodo.org/records/10222484\n",
    "SOMFFN_url = \"https://zenodo.org/records/10222484/files/GCB-2023_dataprod_SOM-FFN_1982-2022.nc?download=1\"\n",
    "directory = 'YOUR_GCS_PATH/Taylor_data/data_products'\n",
    "# Edit the file name if needed\n",
    "save_path = f'{directory}/GCB-2023_dataprod_SOM-FFN_1982-2022.zarr'\n",
    "\n",
    "fs = gcsfs.GCSFileSystem()\n",
    "\n",
    "# Check if we already have the file on GCS\n",
    "if fs.exists(save_path):\n",
    "    print(f\"File already exists at {save_path}. Loading from GCS.\")\n",
    "    ds = xr.open_mfdataset(save_path, engine = 'zarr')\n",
    "else:\n",
    "    print(f\"File does not exist at {save_path}. Downloading and saving.\")\n",
    "    response = requests.get(SOMFFN_url)\n",
    "    if response.status_code == 200:\n",
    "        with open('temp.nc', 'wb') as temp_file:\n",
    "            temp_file.write(response.content)\n",
    "        ds = xr.open_dataset('temp.nc')\n",
    "        ds.to_zarr(save_path, mode='w')\n",
    "        print(f\"Successfully downloaded and saved to {save_path}\")\n",
    "        os.remove('temp.nc')\n",
    "    else:\n",
    "        print(f\"Error! Could not download the file: {response.status_code}\")"
   ]
  },
  {
   "cell_type": "code",
   "execution_count": null,
   "id": "53817705-bb05-4453-ac80-32e94c712bc2",
   "metadata": {},
   "outputs": [],
   "source": [
    "# gridded = ds.sfco2\n",
    "gridded = ds.sfco2.loc[f'{start_yr}-1-01 00:00:00':f'{end_yr}-12-31 00:00:00'] \n",
    "#regrid longitude\n",
    "gridded.coords['lon'] = (gridded.coords['lon'] + 180) % 360 - 180\n",
    "gridded = gridded.sortby(gridded.lon)\n",
    "\n",
    "recon = 'sfco2'  #just what the variable is called."
   ]
  },
  {
   "cell_type": "code",
   "execution_count": null,
   "id": "362ebf06-1c4f-4932-9fce-1545502d90a7",
   "metadata": {},
   "outputs": [],
   "source": [
    "R_BATS, STD_BATS, RMSE_BATS, obs = BATS_stats(gridded,recon,start_yr=start_yr,end_yr=end_yr)\n",
    "\n",
    "R_HOT, STD_HOT, RMSE_HOT, obs = HOT_stats(gridded,recon,start_yr=start_yr,end_yr=end_yr) # handle starts/ends in routines\n",
    "\n",
    "# R_SOCCOM, STD_SOCCOM, RMSE_SOCCOM, obs = SOCCOM_stats(gridded,recon,start_yr=start_yr,end_yr=end_yr)\n",
    "\n",
    "R_LDEO, STD_LDEO, RMSE_LDEO, obs = LDEO_stats(gridded,recon,start_yr=start_yr,end_yr=end_yr)\n",
    "\n",
    "R_GLODAP, STD_GLODAP, RMSE_GLODAP, obs = GLODAP_stats(gridded,recon,start_yr=start_yr,end_yr=end_yr)"
   ]
  },
  {
   "cell_type": "code",
   "execution_count": null,
   "id": "d80cb19b-ad01-4925-93eb-d28167d2c655",
   "metadata": {},
   "outputs": [],
   "source": [
    "df['SOMFFN']=[R_BATS,STD_BATS,RMSE_BATS,R_HOT,STD_HOT,RMSE_HOT, R_LDEO,STD_LDEO,RMSE_LDEO, R_GLODAP,STD_GLODAP,RMSE_GLODAP]\n",
    "df"
   ]
  },
  {
   "cell_type": "markdown",
   "id": "fc9d6b12-50af-4d9d-9558-c1e17bf76bb2",
   "metadata": {},
   "source": [
    "UoEX_WATv2"
   ]
  },
  {
   "cell_type": "code",
   "execution_count": null,
   "id": "dc0d1a35-4767-45ce-97d9-8bf672d4644a",
   "metadata": {},
   "outputs": [],
   "source": [
    "# UoEX_WAT. download from zenodo.\n",
    "# get the url from: https://zenodo.org/records/10222484\n",
    "WAT_url = \"https://zenodo.org/records/10222484/files/GCB-2023_dataprod_UoEX_WATv2_1985-2022.nc?download=1\"\n",
    "directory = 'YOUR_GCS_PATH/Taylor_data/data_products'\n",
    "# Edit the file name if needed\n",
    "save_path = f'{directory}/GCB-2023_dataprod_UoEX_WATv2_1985-2022.zarr'\n",
    "\n",
    "fs = gcsfs.GCSFileSystem()\n",
    "\n",
    "# Check if we already have the file on GCS\n",
    "if fs.exists(save_path):\n",
    "    print(f\"File already exists at {save_path}. Loading from GCS.\")\n",
    "    ds = xr.open_mfdataset(save_path, engine = 'zarr')\n",
    "else:\n",
    "    print(f\"File does not exist at {save_path}. Downloading and saving.\")\n",
    "    response = requests.get(WAT_url)\n",
    "    if response.status_code == 200:\n",
    "        with open('temp.nc', 'wb') as temp_file:\n",
    "            temp_file.write(response.content)\n",
    "        ds = xr.open_dataset('temp.nc')\n",
    "        ds.to_zarr(save_path, mode='w')\n",
    "        print(f\"Successfully downloaded and saved to {save_path}\")\n",
    "        os.remove('temp.nc')\n",
    "    else:\n",
    "        print(f\"Error! Could not download the file: {response.status_code}\")"
   ]
  },
  {
   "cell_type": "code",
   "execution_count": null,
   "id": "6affc9a6-0a1d-48ec-a8cd-d9920cafd52b",
   "metadata": {},
   "outputs": [],
   "source": [
    "# gridded = ds.sfco2\n",
    "gridded = ds.sfco2.loc[f'{start_yr}-1-01 00:00:00':f'{end_yr}-12-31 00:00:00']\n",
    "\n",
    "#regrid longitude\n",
    "gridded.coords['lon'] = (gridded.coords['lon'] + 180) % 360 - 180\n",
    "gridded = gridded.sortby(gridded.lon)\n",
    "\n",
    "recon = 'sfco2'  #just what the variable is called."
   ]
  },
  {
   "cell_type": "code",
   "execution_count": null,
   "id": "ed427c51-4054-426a-b395-e36b62a422da",
   "metadata": {},
   "outputs": [],
   "source": [
    "R_BATS, STD_BATS, RMSE_BATS, obs = BATS_stats(gridded,recon,start_yr=start_yr,end_yr=end_yr)\n",
    "\n",
    "R_HOT, STD_HOT, RMSE_HOT, obs = HOT_stats(gridded,recon,start_yr=start_yr,end_yr=end_yr) # handle starts/ends in routines\n",
    "\n",
    "# R_SOCCOM, STD_SOCCOM, RMSE_SOCCOM, obs = SOCCOM_stats(gridded,recon,start_yr=start_yr,end_yr=end_yr)\n",
    "\n",
    "R_LDEO, STD_LDEO, RMSE_LDEO, obs = LDEO_stats(gridded,recon,start_yr=start_yr,end_yr=end_yr)\n",
    "\n",
    "R_GLODAP, STD_GLODAP, RMSE_GLODAP, obs = GLODAP_stats(gridded,recon,start_yr=start_yr,end_yr=end_yr)"
   ]
  },
  {
   "cell_type": "code",
   "execution_count": null,
   "id": "97a66553-47dc-4a20-a41f-f2a4fb77820a",
   "metadata": {},
   "outputs": [],
   "source": [
    "df['UoEX_WAT']=[R_BATS,STD_BATS,RMSE_BATS,R_HOT,STD_HOT,RMSE_HOT, R_LDEO,STD_LDEO,RMSE_LDEO, R_GLODAP,STD_GLODAP,RMSE_GLODAP]\n",
    "df"
   ]
  },
  {
   "cell_type": "markdown",
   "id": "6b73725b-d83b-4956-a962-5dcfeef4c30b",
   "metadata": {},
   "source": [
    "OceanSODA-ETHZ"
   ]
  },
  {
   "cell_type": "code",
   "execution_count": null,
   "id": "b4de4c2c-c8db-4b17-b795-43bf21698f6f",
   "metadata": {},
   "outputs": [],
   "source": [
    "# OceanSODA-ETHZ. download from zenodo.\n",
    "# get the url from: https://zenodo.org/records/10222484\n",
    "OceanSODA_url = \"https://zenodo.org/records/10222484/files/GCB-2023_dataprod_OceanSODA-ETHZ_1982-2022.nc?download=1\"\n",
    "directory = 'YOUR_GCS_PATH/Taylor_data/data_products'\n",
    "# Edit the file name if needed\n",
    "save_path = f'{directory}/GCB-2023_dataprod_OceanSODA-ETHZ_1982-2022.zarr'\n",
    "\n",
    "fs = gcsfs.GCSFileSystem()\n",
    "\n",
    "# Check if we already have the file on GCS\n",
    "if fs.exists(save_path):\n",
    "    print(f\"File already exists at {save_path}. Loading from GCS.\")\n",
    "    ds = xr.open_mfdataset(save_path, engine = 'zarr')\n",
    "else:\n",
    "    print(f\"File does not exist at {save_path}. Downloading and saving.\")\n",
    "    response = requests.get(OceanSODA_url)\n",
    "    if response.status_code == 200:\n",
    "        with open('temp.nc', 'wb') as temp_file:\n",
    "            temp_file.write(response.content)\n",
    "        ds = xr.open_dataset('temp.nc')\n",
    "        ds.to_zarr(save_path, mode='w')\n",
    "        print(f\"Successfully downloaded and saved to {save_path}\")\n",
    "        os.remove('temp.nc')\n",
    "    else:\n",
    "        print(f\"Error! Could not download the file: {response.status_code}\")"
   ]
  },
  {
   "cell_type": "code",
   "execution_count": null,
   "id": "743d94d8-4529-4c21-89be-12d316b88547",
   "metadata": {},
   "outputs": [],
   "source": [
    "# gridded = ds.sfco2\n",
    "gridded = ds.sfco2.loc[f'{start_yr}-1-01 00:00:00':f'{end_yr}-12-31 00:00:00']\n",
    "\n",
    "#regrid longitude\n",
    "gridded.coords['lon'] = (gridded.coords['lon'] + 180) % 360 - 180\n",
    "gridded = gridded.sortby(gridded.lon)\n",
    "\n",
    "recon = 'sfco2'  #just what the variable is called."
   ]
  },
  {
   "cell_type": "code",
   "execution_count": null,
   "id": "29c2c6b9-d70a-49f5-88ea-d458a4b5c632",
   "metadata": {},
   "outputs": [],
   "source": [
    "R_BATS, STD_BATS, RMSE_BATS, obs = BATS_stats(gridded,recon,start_yr=start_yr,end_yr=end_yr)\n",
    "\n",
    "R_HOT, STD_HOT, RMSE_HOT, obs = HOT_stats(gridded,recon,start_yr=start_yr,end_yr=end_yr) # handle starts/ends in routines\n",
    "\n",
    "# R_SOCCOM, STD_SOCCOM, RMSE_SOCCOM, obs = SOCCOM_stats(gridded,recon,start_yr=start_yr,end_yr=end_yr)\n",
    "\n",
    "R_LDEO, STD_LDEO, RMSE_LDEO, obs = LDEO_stats(gridded,recon,start_yr=start_yr,end_yr=end_yr)\n",
    "\n",
    "R_GLODAP, STD_GLODAP, RMSE_GLODAP, obs = GLODAP_stats(gridded,recon,start_yr=start_yr,end_yr=end_yr)"
   ]
  },
  {
   "cell_type": "code",
   "execution_count": null,
   "id": "f6432710-3bef-4376-8492-ad8201e7a6a9",
   "metadata": {},
   "outputs": [],
   "source": [
    "df['OceanSODA']=[R_BATS,STD_BATS,RMSE_BATS,R_HOT,STD_HOT,RMSE_HOT, R_LDEO,STD_LDEO,RMSE_LDEO, R_GLODAP,STD_GLODAP,RMSE_GLODAP]\n",
    "df"
   ]
  },
  {
   "cell_type": "code",
   "execution_count": null,
   "id": "fa813d21-519e-418a-927a-9527dd32a7a4",
   "metadata": {},
   "outputs": [],
   "source": []
  },
  {
   "cell_type": "markdown",
   "id": "1ad9fd0a-45a7-4cf1-8bc0-2b8ffb6ddf05",
   "metadata": {},
   "source": [
    "Models"
   ]
  },
  {
   "cell_type": "code",
   "execution_count": null,
   "id": "06d3c15a-18b0-441f-823f-5dc66e90b095",
   "metadata": {},
   "outputs": [],
   "source": [
    "# list of all models and their download url\n",
    "# edit if necessary\n",
    "models = ['ACCESS', 'CESM_ETHZ', 'CNRM_ESM2', 'FESOM2_REcoM', 'IPSL', 'MOM6_Princeton', 'MPIOM_HAMOCC', 'MRI_ESM2_2', \n",
    "          'NEMO_PlankTOM12', 'NorESM_OC1_2']\n",
    "urls = ['https://zenodo.org/records/10222484/files/GCB-2023_OceanModel_ACCESS_1959-2022.nc?download=1',\n",
    "        'https://zenodo.org/records/10222484/files/GCB-2023_OceanModel_CESM_ETHZ_1959-2022.nc?download=1',\n",
    "        'https://zenodo.org/records/10222484/files/GCB-2023_OceanModel_CNRM_ESM2_1_1959-2022.nc?download=1',\n",
    "        'https://zenodo.org/records/10222484/files/GCB-2023_OceanModel_FESOM2_REcoM_1959-2022.nc?download=1',\n",
    "        'https://zenodo.org/records/10222484/files/GCB-2023_OceanModel_IPSL_1959-2022.nc?download=1',\n",
    "        'https://zenodo.org/records/10222484/files/GCB-2023_OceanModel_MOM6_Princeton_1959-2022.nc?download=1',\n",
    "        'https://zenodo.org/records/10222484/files/GCB-2023_OceanModel_MPIOM_HAMOCC_1959-2022.nc?download=1',\n",
    "        'https://zenodo.org/records/10222484/files/GCB-2023_OceanModel_MRI_ESM2_2_1959-2022.nc?download=1',\n",
    "        'https://zenodo.org/records/10222484/files/GCB-2023_OceanModel_NEMO_PlankTOM12_1959-2022.nc?download=1',\n",
    "        'https://zenodo.org/records/10222484/files/GCB-2023_OceanModel_NorESM_OC1_2_1959-2022.nc?download=1'\n",
    "       ]"
   ]
  },
  {
   "cell_type": "code",
   "execution_count": null,
   "id": "30230649-1d60-4b88-a9ba-4428b92b3793",
   "metadata": {},
   "outputs": [],
   "source": [
    "directory = 'YOUR_GCS_PATH/Taylor_data/GOBMs'\n",
    "for model, url in zip(models, urls):\n",
    "    file_name = url.split('/')[-1].split('.nc')[0]\n",
    "    save_path = f'{directory}/{file_name}.zarr'\n",
    "    \n",
    "    fs = gcsfs.GCSFileSystem()\n",
    "    \n",
    "    # Check if we already have the file on GCS\n",
    "    if fs.exists(save_path):\n",
    "        print(f\"File already exists at {save_path}. Loading from GCS.\")\n",
    "        ds = xr.open_mfdataset(save_path, engine = 'zarr')\n",
    "    else:\n",
    "        print(f\"File does not exist at {save_path}. Downloading and saving.\")\n",
    "        response = requests.get(url)\n",
    "        if response.status_code == 200:\n",
    "            with open('temp.nc', 'wb') as temp_file:\n",
    "                temp_file.write(response.content)\n",
    "            ds = xr.open_dataset('temp.nc')\n",
    "            ds.to_zarr(save_path, mode='w')\n",
    "            print(f\"Successfully downloaded and saved to {save_path}\")\n",
    "            os.remove('temp.nc')\n",
    "        else:\n",
    "            print(f\"Error! Could not download the file: {response.status_code}\")\n",
    "    \n",
    "    # gridded = ds.sfco2\n",
    "    # gridded = ds.sfco2.loc[f'{start_yr}-1-01 00:00:00':f'{end_yr}-12-31 00:00:00']\n",
    "    gridded = ds.sfco2.sel(simulation='A').sel(time=slice(f'{start_yr}-01-01T00:00:00', f'{end_yr}-12-31T23:59:59'))\n",
    "    \n",
    "    #regrid longitude\n",
    "    gridded.coords['lon'] = (gridded.coords['lon'] + 180) % 360 - 180\n",
    "    gridded = gridded.sortby(gridded.lon)\n",
    "    \n",
    "    recon = 'sfco2'  #just what the variable is called.\n",
    "\n",
    "    R_BATS, STD_BATS, RMSE_BATS, obs = BATS_stats(gridded,recon,start_yr=start_yr,end_yr=end_yr)\n",
    "    R_HOT, STD_HOT, RMSE_HOT, obs = HOT_stats(gridded,recon,start_yr=start_yr,end_yr=end_yr)\n",
    "    R_LDEO, STD_LDEO, RMSE_LDEO, obs = LDEO_stats(gridded,recon,start_yr=start_yr,end_yr=end_yr)\n",
    "    R_GLODAP, STD_GLODAP, RMSE_GLODAP, obs = GLODAP_stats(gridded,recon,start_yr=start_yr,end_yr=end_yr)\n",
    "\n",
    "    df[model]=[R_BATS,STD_BATS,RMSE_BATS,R_HOT,STD_HOT,RMSE_HOT, R_LDEO,STD_LDEO,RMSE_LDEO, R_GLODAP,STD_GLODAP,RMSE_GLODAP]\n",
    "\n",
    "df"
   ]
  },
  {
   "cell_type": "code",
   "execution_count": null,
   "id": "6b0f3723-91d7-48e5-b1da-818734f3c8f1",
   "metadata": {},
   "outputs": [],
   "source": [
    "# to show the statistics of Models\n",
    "df.iloc[:,11:]"
   ]
  },
  {
   "cell_type": "markdown",
   "id": "ab8aeaad-db77-4d5e-8c22-69b7e799221c",
   "metadata": {},
   "source": [
    "Save to GCS"
   ]
  },
  {
   "cell_type": "code",
   "execution_count": null,
   "id": "322bf7a1-8511-494d-8f64-007442f4ed55",
   "metadata": {},
   "outputs": [],
   "source": [
    "# Write out Files #\n",
    "\n",
    "# Get current time\n",
    "now = datetime.datetime.now()\n",
    "current_year = now.year\n",
    "current_month = str(now.month).zfill(2)\n",
    "current_day = str(now.day).zfill(2)\n",
    "\n",
    "output_path = 'YOUR_GCS_PATH/Taylor_data/Taylor_inputs'\n",
    "\n",
    "# Edit the file name here\n",
    "# if we set the time range from earlier than 1986 to later than 2022, then we assume it outputs the full time rage version\n",
    "if (start_yr <= 1986 & end_yr >= 2022) or (start_yr == None and end_yr == None): \n",
    "    csv_out_path = output_path + f'/allproducts_pCO2_Taylor_stats_Full_version{current_year}{current_month}{current_day}.csv'\n",
    "else:\n",
    "    csv_out_path = output_path + f'/allproducts_pCO2_Taylor_stats_version{current_year}{current_month}{current_day}_{start_yr}-{end_yr}.csv'\n",
    "\n",
    "\n",
    "with fs.open(csv_out_path, 'w') as f:\n",
    "    df.to_csv(f, index=False)\n",
    "\n",
    "# Check if saved sucessfully\n",
    "if fs.exists(csv_out_path):\n",
    "    print(f\"Successfully saved to {csv_out_path}\")\n",
    "else:\n",
    "    print(f\"Failed to save to {csv_out_path}\")"
   ]
  },
  {
   "cell_type": "code",
   "execution_count": null,
   "id": "c2cd78e9-d0b0-4eb9-a177-46b96ddbd3e9",
   "metadata": {},
   "outputs": [],
   "source": [
    "fs.ls(output_path)"
   ]
  }
 ],
 "metadata": {
  "kernelspec": {
   "display_name": "Python 3 (ipykernel)",
   "language": "python",
   "name": "python3"
  },
  "language_info": {
   "codemirror_mode": {
    "name": "ipython",
    "version": 3
   },
   "file_extension": ".py",
   "mimetype": "text/x-python",
   "name": "python",
   "nbconvert_exporter": "python",
   "pygments_lexer": "ipython3",
   "version": "3.11.5"
  }
 },
 "nbformat": 4,
 "nbformat_minor": 5
}
